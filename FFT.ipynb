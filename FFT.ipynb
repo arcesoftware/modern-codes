import numpy as np
import pandas as pd
import matplotlib.pyplot as plt
from scipy.fft import fft


def fibonacci(n):
    fib_sequence = [0, 1]
    for i in range(2, n):
        next_fib = fib_sequence[-1] + fib_sequence[-2]
        fib_sequence.append(next_fib)
    return fib_sequence

n = 99
fib_numbers = fibonacci(n)

# Generate a random array containing Fibonacci numbers
random_fib_numbers = np.random.choice(fib_numbers, size=n)

# Create a DataFrame from the random Fibonacci numbers
df = pd.DataFrame({'x': random_fib_numbers})

# Calculate the FFT of the dataframe using scipy.fft
X = fft(df['x'].values)

# Define the size of each marker based on the magnitude of each element in the FFT result
sizes = np.abs(X) * 0.00000000000000000061803398874988

plt.scatter(df.index, df['x'], c=df['x'], cmap='hsv', s=sizes, alpha=0.5)
plt.title("Input Dataframe")
plt.xlabel("Index")
plt.ylabel("Value")
plt.colorbar()
plt.show()

magnitude = np.abs(X)
phase = np.angle(X)

plt.scatter(np.real(X), np.imag(X), c=phase, cmap='hsv', s=sizes, alpha=0.314)
plt.title("FFT of Dataframe")
plt.xlabel("Real Part")
plt.ylabel("Imaginary Part")
plt.colorbar()
plt.show()
